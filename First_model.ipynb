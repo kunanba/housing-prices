{
 "cells": [
  {
   "cell_type": "markdown",
   "metadata": {},
   "source": [
    "# First model"
   ]
  },
  {
   "cell_type": "markdown",
   "metadata": {},
   "source": [
    "# Ovjective:\n",
    " - Create first model in order to further analyze the features\n"
   ]
  },
  {
   "cell_type": "markdown",
   "metadata": {},
   "source": [
    "## Initial data analysis"
   ]
  },
  {
   "cell_type": "code",
   "execution_count": 2,
   "metadata": {},
   "outputs": [],
   "source": [
    "import pandas as pd\n",
    "import numpy as np\n",
    "import matplotlib.pyplot as plt\n",
    "import seaborn as sns\n",
    "from sklearn.linear_model import LinearRegression, LassoCV, RidgeCV\n",
    "from sklearn.model_selection import train_test_split, cross_val_score\n",
    "from sklearn.preprocessing import StandardScaler\n",
    "from sklearn.metrics import r2_score\n"
   ]
  },
  {
   "cell_type": "code",
   "execution_count": 3,
   "metadata": {},
   "outputs": [],
   "source": [
    "df = pd.read_csv('datasets/train.csv')\n",
    "pd.set_option('max_columns', 85)\n",
    "df.head()"
   ]
  },
  {
   "cell_type": "code",
   "execution_count": 6,
   "metadata": {},
   "outputs": [
    {
     "data": {
      "text/plain": [
       "(2051, 81)"
      ]
     },
     "execution_count": 6,
     "metadata": {},
     "output_type": "execute_result"
    }
   ],
   "source": [
    "df.shape"
   ]
  },
  {
   "cell_type": "markdown",
   "metadata": {},
   "source": [
    "Checking for null values and zeros"
   ]
  },
  {
   "cell_type": "code",
   "execution_count": 7,
   "metadata": {},
   "outputs": [
    {
     "data": {
      "text/plain": [
       "9822"
      ]
     },
     "execution_count": 7,
     "metadata": {},
     "output_type": "execute_result"
    }
   ],
   "source": [
    "df.isnull().sum().sum()"
   ]
  },
  {
   "cell_type": "code",
   "execution_count": 29,
   "metadata": {},
   "outputs": [],
   "source": [
    "# this is zero_counter function\n",
    "def zero_count(dataframe):\n",
    "    count = 0\n",
    "    for i in dataframe:\n",
    "        if i == 0:\n",
    "            count += 1\n",
    "    return count"
   ]
  },
  {
   "cell_type": "code",
   "execution_count": 30,
   "metadata": {},
   "outputs": [
    {
     "name": "stdout",
     "output_type": "stream",
     "text": [
      "created zeros_lst and zeros_df\n"
     ]
    }
   ],
   "source": [
    "zeros_lst = []\n",
    "for col in df.columns:\n",
    "    zero_count(df[col])\n",
    "    zeros_lst.append(zero_count(df[col]))\n",
    "zeros_df = pd.DataFrame(zeros_lst, index=df.columns)\n",
    "print(f'created zeros_lst and zeros_df')"
   ]
  },
  {
   "cell_type": "code",
   "execution_count": 31,
   "metadata": {},
   "outputs": [
    {
     "data": {
      "text/html": [
       "<div>\n",
       "<style scoped>\n",
       "    .dataframe tbody tr th:only-of-type {\n",
       "        vertical-align: middle;\n",
       "    }\n",
       "\n",
       "    .dataframe tbody tr th {\n",
       "        vertical-align: top;\n",
       "    }\n",
       "\n",
       "    .dataframe thead th {\n",
       "        text-align: right;\n",
       "    }\n",
       "</style>\n",
       "<table border=\"1\" class=\"dataframe\">\n",
       "  <thead>\n",
       "    <tr style=\"text-align: right;\">\n",
       "      <th></th>\n",
       "      <th>0</th>\n",
       "    </tr>\n",
       "  </thead>\n",
       "  <tbody>\n",
       "    <tr>\n",
       "      <th>pool_area</th>\n",
       "      <td>2042</td>\n",
       "    </tr>\n",
       "    <tr>\n",
       "      <th>3ssn_porch</th>\n",
       "      <td>2025</td>\n",
       "    </tr>\n",
       "    <tr>\n",
       "      <th>low_qual_fin_sf</th>\n",
       "      <td>2018</td>\n",
       "    </tr>\n",
       "    <tr>\n",
       "      <th>misc_val</th>\n",
       "      <td>1986</td>\n",
       "    </tr>\n",
       "    <tr>\n",
       "      <th>bsmt_half_bath</th>\n",
       "      <td>1923</td>\n",
       "    </tr>\n",
       "    <tr>\n",
       "      <th>screen_porch</th>\n",
       "      <td>1870</td>\n",
       "    </tr>\n",
       "    <tr>\n",
       "      <th>bsmtfin_sf_2</th>\n",
       "      <td>1803</td>\n",
       "    </tr>\n",
       "    <tr>\n",
       "      <th>enclosed_porch</th>\n",
       "      <td>1724</td>\n",
       "    </tr>\n",
       "    <tr>\n",
       "      <th>half_bath</th>\n",
       "      <td>1308</td>\n",
       "    </tr>\n",
       "    <tr>\n",
       "      <th>mas_vnr_area</th>\n",
       "      <td>1216</td>\n",
       "    </tr>\n",
       "    <tr>\n",
       "      <th>bsmt_full_bath</th>\n",
       "      <td>1200</td>\n",
       "    </tr>\n",
       "    <tr>\n",
       "      <th>2nd_flr_sf</th>\n",
       "      <td>1191</td>\n",
       "    </tr>\n",
       "    <tr>\n",
       "      <th>wood_deck_sf</th>\n",
       "      <td>1075</td>\n",
       "    </tr>\n",
       "    <tr>\n",
       "      <th>fireplaces</th>\n",
       "      <td>1000</td>\n",
       "    </tr>\n",
       "    <tr>\n",
       "      <th>open_porch_sf</th>\n",
       "      <td>912</td>\n",
       "    </tr>\n",
       "    <tr>\n",
       "      <th>bsmtfin_sf_1</th>\n",
       "      <td>657</td>\n",
       "    </tr>\n",
       "    <tr>\n",
       "      <th>bsmt_unf_sf</th>\n",
       "      <td>165</td>\n",
       "    </tr>\n",
       "    <tr>\n",
       "      <th>garage_area</th>\n",
       "      <td>113</td>\n",
       "    </tr>\n",
       "    <tr>\n",
       "      <th>garage_cars</th>\n",
       "      <td>113</td>\n",
       "    </tr>\n",
       "    <tr>\n",
       "      <th>total_bsmt_sf</th>\n",
       "      <td>54</td>\n",
       "    </tr>\n",
       "    <tr>\n",
       "      <th>full_bath</th>\n",
       "      <td>8</td>\n",
       "    </tr>\n",
       "    <tr>\n",
       "      <th>bedroom_abvgr</th>\n",
       "      <td>5</td>\n",
       "    </tr>\n",
       "    <tr>\n",
       "      <th>kitchen_abvgr</th>\n",
       "      <td>2</td>\n",
       "    </tr>\n",
       "    <tr>\n",
       "      <th>id</th>\n",
       "      <td>0</td>\n",
       "    </tr>\n",
       "    <tr>\n",
       "      <th>gr_liv_area</th>\n",
       "      <td>0</td>\n",
       "    </tr>\n",
       "    <tr>\n",
       "      <th>kitchen_qual</th>\n",
       "      <td>0</td>\n",
       "    </tr>\n",
       "    <tr>\n",
       "      <th>garage_yr_blt</th>\n",
       "      <td>0</td>\n",
       "    </tr>\n",
       "    <tr>\n",
       "      <th>totrms_abvgrd</th>\n",
       "      <td>0</td>\n",
       "    </tr>\n",
       "    <tr>\n",
       "      <th>functional</th>\n",
       "      <td>0</td>\n",
       "    </tr>\n",
       "    <tr>\n",
       "      <th>fireplace_qu</th>\n",
       "      <td>0</td>\n",
       "    </tr>\n",
       "  </tbody>\n",
       "</table>\n",
       "</div>"
      ],
      "text/plain": [
       "                    0\n",
       "pool_area        2042\n",
       "3ssn_porch       2025\n",
       "low_qual_fin_sf  2018\n",
       "misc_val         1986\n",
       "bsmt_half_bath   1923\n",
       "screen_porch     1870\n",
       "bsmtfin_sf_2     1803\n",
       "enclosed_porch   1724\n",
       "half_bath        1308\n",
       "mas_vnr_area     1216\n",
       "bsmt_full_bath   1200\n",
       "2nd_flr_sf       1191\n",
       "wood_deck_sf     1075\n",
       "fireplaces       1000\n",
       "open_porch_sf     912\n",
       "bsmtfin_sf_1      657\n",
       "bsmt_unf_sf       165\n",
       "garage_area       113\n",
       "garage_cars       113\n",
       "total_bsmt_sf      54\n",
       "full_bath           8\n",
       "bedroom_abvgr       5\n",
       "kitchen_abvgr       2\n",
       "id                  0\n",
       "gr_liv_area         0\n",
       "kitchen_qual        0\n",
       "garage_yr_blt       0\n",
       "totrms_abvgrd       0\n",
       "functional          0\n",
       "fireplace_qu        0"
      ]
     },
     "execution_count": 31,
     "metadata": {},
     "output_type": "execute_result"
    }
   ],
   "source": [
    "zeros_df.sort_values(by=[0], ascending=False).head(30)"
   ]
  },
  {
   "cell_type": "code",
   "execution_count": 10,
   "metadata": {},
   "outputs": [],
   "source": [
    "df.columns = df.columns.str.lower().str.replace(' ', '_')"
   ]
  },
  {
   "cell_type": "markdown",
   "metadata": {},
   "source": [
    "The part below covers the inital data analysis process. If you wish to jump to more thorough analysis section, you can click on this link [EDA](#EDA)"
   ]
  },
  {
   "cell_type": "code",
   "execution_count": 23,
   "metadata": {},
   "outputs": [],
   "source": [
    "# list of categorical columns with nulls\n",
    "col_nulls = [c for c in df.columns if df[c].isnull().sum() > 0]"
   ]
  },
  {
   "cell_type": "code",
   "execution_count": 45,
   "metadata": {},
   "outputs": [
    {
     "name": "stdout",
     "output_type": "stream",
     "text": [
      "lot_frontage\n",
      "mas_vnr_area\n",
      "bsmtfin_sf_1\n",
      "bsmtfin_sf_2\n",
      "bsmt_unf_sf\n",
      "total_bsmt_sf\n",
      "bsmt_full_bath\n",
      "bsmt_half_bath\n",
      "garage_yr_blt\n",
      "garage_cars\n",
      "garage_area\n"
     ]
    }
   ],
   "source": [
    "for i in col_nulls:\n",
    "    if i not in cat_cols:\n",
    "        print(i)"
   ]
  },
  {
   "cell_type": "code",
   "execution_count": 36,
   "metadata": {},
   "outputs": [],
   "source": [
    "col_na = ['pool_qc', 'misc_feature', 'alley', 'fence', 'fireplace_qu', 'lot_frontage',\\\n",
    "          'garage_finish', 'garage_cond', 'garage_qual', 'garage_yr_blt', 'garage_type',\\\n",
    "          'bsmt_exposure', 'bsmtfin_type_2', 'bsmtfin_type_1', 'bsmt_cond', 'bsmt_qual',\\\n",
    "          'mas_vnr_type', 'mas_vnr_area', 'bsmt_half_bath', 'bsmt_full_bath', 'garage_cars',\\\n",
    "          'garage_area', 'bsmt_unf_sf', 'bsmtfin_sf_2', 'total_bsmt_sf', 'bsmtfin_sf_1',\\\n",
    "          'pool_area', '3ssn_porch', 'low_qual_fin_sf', 'misc_val', 'bsmt_half_bath',\\\n",
    "          'screen_porch', 'bsmtfin_sf_2','enclosed_porch', 'half_bath', 'mas_vnr_area',\\\n",
    "          'bsmt_full_bath', '2nd_flr_sf', 'wood_deck_sf', 'fireplaces', 'open_porch_sf',\\\n",
    "          'bsmtfin_sf_1', 'bsmt_unf_sf', 'garage_area', 'garage_cars', 'total_bsmt_sf',\\\n",
    "          'full_bath', 'bedroom_abvgr', 'kitchen_abvgr']"
   ]
  },
  {
   "cell_type": "code",
   "execution_count": 37,
   "metadata": {},
   "outputs": [],
   "source": [
    "# numerical columns with either nulls or zeros\n",
    "num_cols = [c for c in df[col_na]._get_numeric_data().columns]"
   ]
  },
  {
   "cell_type": "code",
   "execution_count": 38,
   "metadata": {},
   "outputs": [],
   "source": [
    "# same as col_nulls\n",
    "cat_cols = [c for c in col_na if c not in num_cols]"
   ]
  },
  {
   "cell_type": "code",
   "execution_count": 39,
   "metadata": {},
   "outputs": [
    {
     "data": {
      "text/plain": [
       "15"
      ]
     },
     "execution_count": 39,
     "metadata": {},
     "output_type": "execute_result"
    }
   ],
   "source": [
    "len(cat_cols)"
   ]
  },
  {
   "cell_type": "code",
   "execution_count": null,
   "metadata": {},
   "outputs": [],
   "source": [
    "def check_unique(dataframe, col_lst):\n",
    "    for i in dataframe[col_lst]:\n",
    "        print(f'{[i]}: {dataframe[i].unique()}')"
   ]
  },
  {
   "cell_type": "code",
   "execution_count": 25,
   "metadata": {},
   "outputs": [
    {
     "name": "stdout",
     "output_type": "stream",
     "text": [
      "['pool_qc']: [nan 'Fa' 'Gd' 'Ex' 'TA']\n",
      "['misc_feature']: [nan 'Shed' 'TenC' 'Gar2' 'Othr' 'Elev']\n",
      "['alley']: [nan 'Pave' 'Grvl']\n",
      "['fence']: [nan 'MnPrv' 'GdPrv' 'GdWo' 'MnWw']\n",
      "['fireplace_qu']: [nan 'TA' 'Gd' 'Po' 'Ex' 'Fa']\n",
      "['garage_finish']: ['RFn' 'Unf' 'Fin' nan]\n",
      "['garage_cond']: ['TA' 'Fa' nan 'Po' 'Gd' 'Ex']\n",
      "['garage_qual']: ['TA' 'Fa' nan 'Gd' 'Ex' 'Po']\n",
      "['garage_type']: ['Attchd' 'Detchd' 'BuiltIn' 'Basment' nan '2Types' 'CarPort']\n",
      "['bsmt_exposure']: ['No' 'Gd' 'Av' nan 'Mn']\n",
      "['bsmtfin_type_2']: ['Unf' 'Rec' nan 'BLQ' 'GLQ' 'LwQ' 'ALQ']\n",
      "['bsmtfin_type_1']: ['GLQ' 'Unf' 'ALQ' 'Rec' nan 'BLQ' 'LwQ']\n",
      "['bsmt_cond']: ['TA' 'Gd' nan 'Fa' 'Po' 'Ex']\n",
      "['bsmt_qual']: ['TA' 'Gd' 'Fa' nan 'Ex' 'Po']\n",
      "['mas_vnr_type']: ['BrkFace' 'None' nan 'Stone' 'BrkCmn']\n"
     ]
    }
   ],
   "source": [
    "# checking what kind of data in the nulls and zeros columns\n",
    "check_unique(df, cat_cols)"
   ]
  },
  {
   "cell_type": "code",
   "execution_count": 30,
   "metadata": {},
   "outputs": [],
   "source": [
    "with_dummies = pd.get_dummies(df, drop_first=True)\n",
    "with_dummies.fillna(0, inplace=True)"
   ]
  },
  {
   "cell_type": "code",
   "execution_count": 33,
   "metadata": {},
   "outputs": [],
   "source": [
    "most_correlated = ['exter_qual_TA', 'bsmt_qual_TA', 'mas_vnr_type_None', 'foundation_CBlock', 'lot_shape_Reg',\\\n",
    "'ms_zoning_RM', 'sale_type_WD ', 'kitchen_qual_Gd', 'wood_deck_sf', 'exterior_2nd_VinylSd', \\\n",
    "'garage_type_Attchd', 'bsmt_exposure_Gd', 'bsmtfin_sf_1', 'neighborhood_NridgHt', 'fireplaces',\\\n",
    "'mas_vnr_area', 'full_bath', 'year_built', 'total_bsmt_sf', 'garage_area', 'overall_qual']\n"
   ]
  },
  {
   "cell_type": "markdown",
   "metadata": {},
   "source": [
    "## 1st Model"
   ]
  },
  {
   "cell_type": "code",
   "execution_count": 34,
   "metadata": {},
   "outputs": [],
   "source": [
    "features = with_dummies.drop(columns=['id', 'pid', 'saleprice']).columns\n",
    "\n",
    "X = with_dummies[features]\n",
    "y = with_dummies['saleprice']"
   ]
  },
  {
   "cell_type": "code",
   "execution_count": 35,
   "metadata": {},
   "outputs": [],
   "source": [
    "X_train, X_test, y_train, y_test = train_test_split(X, y, random_state=42)"
   ]
  },
  {
   "cell_type": "code",
   "execution_count": 36,
   "metadata": {},
   "outputs": [
    {
     "name": "stderr",
     "output_type": "stream",
     "text": [
      "C:\\Users\\Rauan\\Anaconda3\\lib\\site-packages\\sklearn\\preprocessing\\data.py:645: DataConversionWarning: Data with input dtype uint8, int64, float64 were all converted to float64 by StandardScaler.\n",
      "  return self.partial_fit(X, y)\n",
      "C:\\Users\\Rauan\\Anaconda3\\lib\\site-packages\\sklearn\\preprocessing\\data.py:645: DataConversionWarning: Data with input dtype uint8, int64, float64 were all converted to float64 by StandardScaler.\n",
      "  return self.partial_fit(X, y)\n",
      "C:\\Users\\Rauan\\Anaconda3\\lib\\site-packages\\sklearn\\base.py:464: DataConversionWarning: Data with input dtype uint8, int64, float64 were all converted to float64 by StandardScaler.\n",
      "  return self.fit(X, **fit_params).transform(X)\n",
      "C:\\Users\\Rauan\\Anaconda3\\lib\\site-packages\\sklearn\\preprocessing\\data.py:645: DataConversionWarning: Data with input dtype uint8, int64, float64 were all converted to float64 by StandardScaler.\n",
      "  return self.partial_fit(X, y)\n",
      "C:\\Users\\Rauan\\Anaconda3\\lib\\site-packages\\sklearn\\base.py:464: DataConversionWarning: Data with input dtype uint8, int64, float64 were all converted to float64 by StandardScaler.\n",
      "  return self.fit(X, **fit_params).transform(X)\n"
     ]
    }
   ],
   "source": [
    "ss = StandardScaler()\n",
    "ss.fit(X_train)\n",
    "X_train_sc = ss.fit_transform(X_train)\n",
    "X_test_sc = ss.fit_transform(X_test)"
   ]
  },
  {
   "cell_type": "code",
   "execution_count": 37,
   "metadata": {},
   "outputs": [],
   "source": [
    "lr = LinearRegression()\n",
    "ridge = RidgeCV(cv=5)\n",
    "lasso = LassoCV(cv=5)"
   ]
  },
  {
   "cell_type": "code",
   "execution_count": 38,
   "metadata": {},
   "outputs": [
    {
     "data": {
      "text/plain": [
       "-1.52813555331248e+21"
      ]
     },
     "execution_count": 38,
     "metadata": {},
     "output_type": "execute_result"
    }
   ],
   "source": [
    "cross_val_score(lr, X_train_sc, y_train, cv=5).mean()"
   ]
  },
  {
   "cell_type": "code",
   "execution_count": 39,
   "metadata": {},
   "outputs": [
    {
     "name": "stderr",
     "output_type": "stream",
     "text": [
      "C:\\Users\\Rauan\\Anaconda3\\lib\\site-packages\\sklearn\\model_selection\\_search.py:841: DeprecationWarning: The default of the `iid` parameter will change from True to False in version 0.22 and will be removed in 0.24. This will change numeric results when test-set sizes are unequal.\n",
      "  DeprecationWarning)\n"
     ]
    },
    {
     "data": {
      "text/plain": [
       "0.774426411365099"
      ]
     },
     "execution_count": 39,
     "metadata": {},
     "output_type": "execute_result"
    }
   ],
   "source": [
    "cross_val_score(ridge, X_train_sc, y_train, cv=5).mean()"
   ]
  },
  {
   "cell_type": "code",
   "execution_count": 40,
   "metadata": {},
   "outputs": [
    {
     "data": {
      "text/plain": [
       "0.8085458711458285"
      ]
     },
     "execution_count": 40,
     "metadata": {},
     "output_type": "execute_result"
    }
   ],
   "source": [
    "cross_val_score(lasso, X_train_sc, y_train, cv=5).mean()"
   ]
  },
  {
   "cell_type": "code",
   "execution_count": 41,
   "metadata": {},
   "outputs": [
    {
     "data": {
      "text/plain": [
       "LassoCV(alphas=None, copy_X=True, cv=5, eps=0.001, fit_intercept=True,\n",
       "    max_iter=1000, n_alphas=100, n_jobs=None, normalize=False,\n",
       "    positive=False, precompute='auto', random_state=None,\n",
       "    selection='cyclic', tol=0.0001, verbose=False)"
      ]
     },
     "execution_count": 41,
     "metadata": {},
     "output_type": "execute_result"
    }
   ],
   "source": [
    "lasso.fit(X_train_sc, y_train)"
   ]
  },
  {
   "cell_type": "code",
   "execution_count": 42,
   "metadata": {},
   "outputs": [
    {
     "data": {
      "text/plain": [
       "0.9088725191125407"
      ]
     },
     "execution_count": 42,
     "metadata": {},
     "output_type": "execute_result"
    }
   ],
   "source": [
    "lasso.score(X_train_sc, y_train)"
   ]
  },
  {
   "cell_type": "code",
   "execution_count": 43,
   "metadata": {},
   "outputs": [
    {
     "data": {
      "text/plain": [
       "0.9023505522113023"
      ]
     },
     "execution_count": 43,
     "metadata": {},
     "output_type": "execute_result"
    }
   ],
   "source": [
    "lasso.score(X_test_sc, y_test)"
   ]
  },
  {
   "cell_type": "code",
   "execution_count": 44,
   "metadata": {},
   "outputs": [],
   "source": [
    "coefs = lasso.coef_"
   ]
  },
  {
   "cell_type": "code",
   "execution_count": 45,
   "metadata": {},
   "outputs": [],
   "source": [
    "feat_coefs = pd.DataFrame(coefs, index=(X_test.columns))"
   ]
  },
  {
   "cell_type": "code",
   "execution_count": 46,
   "metadata": {},
   "outputs": [
    {
     "data": {
      "text/html": [
       "<div>\n",
       "<style scoped>\n",
       "    .dataframe tbody tr th:only-of-type {\n",
       "        vertical-align: middle;\n",
       "    }\n",
       "\n",
       "    .dataframe tbody tr th {\n",
       "        vertical-align: top;\n",
       "    }\n",
       "\n",
       "    .dataframe thead th {\n",
       "        text-align: right;\n",
       "    }\n",
       "</style>\n",
       "<table border=\"1\" class=\"dataframe\">\n",
       "  <thead>\n",
       "    <tr style=\"text-align: right;\">\n",
       "      <th></th>\n",
       "      <th>0</th>\n",
       "    </tr>\n",
       "  </thead>\n",
       "  <tbody>\n",
       "    <tr>\n",
       "      <th>gr_liv_area</th>\n",
       "      <td>18519.908145</td>\n",
       "    </tr>\n",
       "    <tr>\n",
       "      <th>overall_qual</th>\n",
       "      <td>14966.176377</td>\n",
       "    </tr>\n",
       "    <tr>\n",
       "      <th>neighborhood_NridgHt</th>\n",
       "      <td>8811.374359</td>\n",
       "    </tr>\n",
       "    <tr>\n",
       "      <th>neighborhood_StoneBr</th>\n",
       "      <td>6876.760104</td>\n",
       "    </tr>\n",
       "    <tr>\n",
       "      <th>year_built</th>\n",
       "      <td>6420.522517</td>\n",
       "    </tr>\n",
       "    <tr>\n",
       "      <th>neighborhood_NoRidge</th>\n",
       "      <td>5262.992484</td>\n",
       "    </tr>\n",
       "    <tr>\n",
       "      <th>bsmt_exposure_Gd</th>\n",
       "      <td>4783.137677</td>\n",
       "    </tr>\n",
       "    <tr>\n",
       "      <th>total_bsmt_sf</th>\n",
       "      <td>4507.176723</td>\n",
       "    </tr>\n",
       "    <tr>\n",
       "      <th>fireplaces</th>\n",
       "      <td>4296.843490</td>\n",
       "    </tr>\n",
       "    <tr>\n",
       "      <th>misc_feature_Gar2</th>\n",
       "      <td>3995.329728</td>\n",
       "    </tr>\n",
       "    <tr>\n",
       "      <th>screen_porch</th>\n",
       "      <td>3825.053879</td>\n",
       "    </tr>\n",
       "    <tr>\n",
       "      <th>sale_type_New</th>\n",
       "      <td>3735.478407</td>\n",
       "    </tr>\n",
       "    <tr>\n",
       "      <th>overall_cond</th>\n",
       "      <td>3675.652223</td>\n",
       "    </tr>\n",
       "    <tr>\n",
       "      <th>mas_vnr_area</th>\n",
       "      <td>3557.290512</td>\n",
       "    </tr>\n",
       "    <tr>\n",
       "      <th>bsmt_full_bath</th>\n",
       "      <td>3550.215658</td>\n",
       "    </tr>\n",
       "    <tr>\n",
       "      <th>neighborhood_GrnHill</th>\n",
       "      <td>3409.993005</td>\n",
       "    </tr>\n",
       "    <tr>\n",
       "      <th>bsmtfin_sf_1</th>\n",
       "      <td>3385.541516</td>\n",
       "    </tr>\n",
       "    <tr>\n",
       "      <th>year_remod/add</th>\n",
       "      <td>3247.043614</td>\n",
       "    </tr>\n",
       "    <tr>\n",
       "      <th>roof_matl_WdShngl</th>\n",
       "      <td>3194.320750</td>\n",
       "    </tr>\n",
       "    <tr>\n",
       "      <th>garage_cars</th>\n",
       "      <td>2986.538531</td>\n",
       "    </tr>\n",
       "    <tr>\n",
       "      <th>misc_feature_Othr</th>\n",
       "      <td>2840.568144</td>\n",
       "    </tr>\n",
       "    <tr>\n",
       "      <th>totrms_abvgrd</th>\n",
       "      <td>2763.735154</td>\n",
       "    </tr>\n",
       "    <tr>\n",
       "      <th>full_bath</th>\n",
       "      <td>2622.426739</td>\n",
       "    </tr>\n",
       "    <tr>\n",
       "      <th>lot_area</th>\n",
       "      <td>2479.500413</td>\n",
       "    </tr>\n",
       "    <tr>\n",
       "      <th>neighborhood_Somerst</th>\n",
       "      <td>2456.345040</td>\n",
       "    </tr>\n",
       "    <tr>\n",
       "      <th>neighborhood_Crawfor</th>\n",
       "      <td>2336.697602</td>\n",
       "    </tr>\n",
       "    <tr>\n",
       "      <th>condition_1_Norm</th>\n",
       "      <td>2266.082447</td>\n",
       "    </tr>\n",
       "    <tr>\n",
       "      <th>condition_1_PosN</th>\n",
       "      <td>2166.465509</td>\n",
       "    </tr>\n",
       "    <tr>\n",
       "      <th>land_contour_HLS</th>\n",
       "      <td>2086.198356</td>\n",
       "    </tr>\n",
       "    <tr>\n",
       "      <th>garage_area</th>\n",
       "      <td>1956.802908</td>\n",
       "    </tr>\n",
       "    <tr>\n",
       "      <th>...</th>\n",
       "      <td>...</td>\n",
       "    </tr>\n",
       "    <tr>\n",
       "      <th>heating_OthW</th>\n",
       "      <td>-562.857152</td>\n",
       "    </tr>\n",
       "    <tr>\n",
       "      <th>exterior_2nd_Stucco</th>\n",
       "      <td>-600.596081</td>\n",
       "    </tr>\n",
       "    <tr>\n",
       "      <th>ms_zoning_RM</th>\n",
       "      <td>-667.811714</td>\n",
       "    </tr>\n",
       "    <tr>\n",
       "      <th>bsmt_cond_Fa</th>\n",
       "      <td>-733.302280</td>\n",
       "    </tr>\n",
       "    <tr>\n",
       "      <th>functional_Sal</th>\n",
       "      <td>-795.849602</td>\n",
       "    </tr>\n",
       "    <tr>\n",
       "      <th>fireplace_qu_Fa</th>\n",
       "      <td>-825.403992</td>\n",
       "    </tr>\n",
       "    <tr>\n",
       "      <th>bsmt_exposure_Mn</th>\n",
       "      <td>-833.281662</td>\n",
       "    </tr>\n",
       "    <tr>\n",
       "      <th>exter_qual_Fa</th>\n",
       "      <td>-876.863507</td>\n",
       "    </tr>\n",
       "    <tr>\n",
       "      <th>exterior_1st_Stucco</th>\n",
       "      <td>-1038.148567</td>\n",
       "    </tr>\n",
       "    <tr>\n",
       "      <th>garage_finish_RFn</th>\n",
       "      <td>-1053.370024</td>\n",
       "    </tr>\n",
       "    <tr>\n",
       "      <th>roof_style_Mansard</th>\n",
       "      <td>-1247.608812</td>\n",
       "    </tr>\n",
       "    <tr>\n",
       "      <th>bsmtfin_type_1_Unf</th>\n",
       "      <td>-1254.430683</td>\n",
       "    </tr>\n",
       "    <tr>\n",
       "      <th>heating_qc_TA</th>\n",
       "      <td>-1324.658812</td>\n",
       "    </tr>\n",
       "    <tr>\n",
       "      <th>exterior_1st_HdBoard</th>\n",
       "      <td>-1450.290339</td>\n",
       "    </tr>\n",
       "    <tr>\n",
       "      <th>bldg_type_Twnhs</th>\n",
       "      <td>-1685.118510</td>\n",
       "    </tr>\n",
       "    <tr>\n",
       "      <th>bsmt_qual_TA</th>\n",
       "      <td>-1870.201838</td>\n",
       "    </tr>\n",
       "    <tr>\n",
       "      <th>bsmt_exposure_No</th>\n",
       "      <td>-1962.520459</td>\n",
       "    </tr>\n",
       "    <tr>\n",
       "      <th>kitchen_qual_Fa</th>\n",
       "      <td>-2310.262786</td>\n",
       "    </tr>\n",
       "    <tr>\n",
       "      <th>neighborhood_Edwards</th>\n",
       "      <td>-2401.343888</td>\n",
       "    </tr>\n",
       "    <tr>\n",
       "      <th>kitchen_abvgr</th>\n",
       "      <td>-2444.162938</td>\n",
       "    </tr>\n",
       "    <tr>\n",
       "      <th>bldg_type_TwnhsE</th>\n",
       "      <td>-2663.114976</td>\n",
       "    </tr>\n",
       "    <tr>\n",
       "      <th>lot_shape_IR3</th>\n",
       "      <td>-2698.018311</td>\n",
       "    </tr>\n",
       "    <tr>\n",
       "      <th>exter_qual_Gd</th>\n",
       "      <td>-3528.456178</td>\n",
       "    </tr>\n",
       "    <tr>\n",
       "      <th>bsmt_qual_Gd</th>\n",
       "      <td>-3692.322546</td>\n",
       "    </tr>\n",
       "    <tr>\n",
       "      <th>ms_subclass</th>\n",
       "      <td>-4068.175507</td>\n",
       "    </tr>\n",
       "    <tr>\n",
       "      <th>pool_qc_Gd</th>\n",
       "      <td>-5127.502088</td>\n",
       "    </tr>\n",
       "    <tr>\n",
       "      <th>exter_qual_TA</th>\n",
       "      <td>-5739.900870</td>\n",
       "    </tr>\n",
       "    <tr>\n",
       "      <th>kitchen_qual_Gd</th>\n",
       "      <td>-6857.416238</td>\n",
       "    </tr>\n",
       "    <tr>\n",
       "      <th>kitchen_qual_TA</th>\n",
       "      <td>-7756.118274</td>\n",
       "    </tr>\n",
       "    <tr>\n",
       "      <th>misc_val</th>\n",
       "      <td>-8808.412340</td>\n",
       "    </tr>\n",
       "  </tbody>\n",
       "</table>\n",
       "<p>247 rows × 1 columns</p>\n",
       "</div>"
      ],
      "text/plain": [
       "                                 0\n",
       "gr_liv_area           18519.908145\n",
       "overall_qual          14966.176377\n",
       "neighborhood_NridgHt   8811.374359\n",
       "neighborhood_StoneBr   6876.760104\n",
       "year_built             6420.522517\n",
       "neighborhood_NoRidge   5262.992484\n",
       "bsmt_exposure_Gd       4783.137677\n",
       "total_bsmt_sf          4507.176723\n",
       "fireplaces             4296.843490\n",
       "misc_feature_Gar2      3995.329728\n",
       "screen_porch           3825.053879\n",
       "sale_type_New          3735.478407\n",
       "overall_cond           3675.652223\n",
       "mas_vnr_area           3557.290512\n",
       "bsmt_full_bath         3550.215658\n",
       "neighborhood_GrnHill   3409.993005\n",
       "bsmtfin_sf_1           3385.541516\n",
       "year_remod/add         3247.043614\n",
       "roof_matl_WdShngl      3194.320750\n",
       "garage_cars            2986.538531\n",
       "misc_feature_Othr      2840.568144\n",
       "totrms_abvgrd          2763.735154\n",
       "full_bath              2622.426739\n",
       "lot_area               2479.500413\n",
       "neighborhood_Somerst   2456.345040\n",
       "neighborhood_Crawfor   2336.697602\n",
       "condition_1_Norm       2266.082447\n",
       "condition_1_PosN       2166.465509\n",
       "land_contour_HLS       2086.198356\n",
       "garage_area            1956.802908\n",
       "...                            ...\n",
       "heating_OthW           -562.857152\n",
       "exterior_2nd_Stucco    -600.596081\n",
       "ms_zoning_RM           -667.811714\n",
       "bsmt_cond_Fa           -733.302280\n",
       "functional_Sal         -795.849602\n",
       "fireplace_qu_Fa        -825.403992\n",
       "bsmt_exposure_Mn       -833.281662\n",
       "exter_qual_Fa          -876.863507\n",
       "exterior_1st_Stucco   -1038.148567\n",
       "garage_finish_RFn     -1053.370024\n",
       "roof_style_Mansard    -1247.608812\n",
       "bsmtfin_type_1_Unf    -1254.430683\n",
       "heating_qc_TA         -1324.658812\n",
       "exterior_1st_HdBoard  -1450.290339\n",
       "bldg_type_Twnhs       -1685.118510\n",
       "bsmt_qual_TA          -1870.201838\n",
       "bsmt_exposure_No      -1962.520459\n",
       "kitchen_qual_Fa       -2310.262786\n",
       "neighborhood_Edwards  -2401.343888\n",
       "kitchen_abvgr         -2444.162938\n",
       "bldg_type_TwnhsE      -2663.114976\n",
       "lot_shape_IR3         -2698.018311\n",
       "exter_qual_Gd         -3528.456178\n",
       "bsmt_qual_Gd          -3692.322546\n",
       "ms_subclass           -4068.175507\n",
       "pool_qc_Gd            -5127.502088\n",
       "exter_qual_TA         -5739.900870\n",
       "kitchen_qual_Gd       -6857.416238\n",
       "kitchen_qual_TA       -7756.118274\n",
       "misc_val              -8808.412340\n",
       "\n",
       "[247 rows x 1 columns]"
      ]
     },
     "execution_count": 46,
     "metadata": {},
     "output_type": "execute_result"
    }
   ],
   "source": [
    "feat_coefs.sort_values(by=[0], ascending=False)"
   ]
  },
  {
   "cell_type": "code",
   "execution_count": 47,
   "metadata": {},
   "outputs": [],
   "source": [
    "pred = lasso.predict(X_test_sc)"
   ]
  },
  {
   "cell_type": "code",
   "execution_count": 48,
   "metadata": {},
   "outputs": [],
   "source": [
    "residuals = y_test - pred"
   ]
  },
  {
   "cell_type": "code",
   "execution_count": 49,
   "metadata": {},
   "outputs": [
    {
     "data": {
      "image/png": "[encoded data removed]",
      "text/plain": [
       "<Figure size 576x576 with 1 Axes>"
      ]
     },
     "metadata": {},
     "output_type": "display_data"
    }
   ],
   "source": [
    "sns.set(rc={'figure.figsize':(8,8)})\n",
    "sns.scatterplot(pred, residuals);"
   ]
  },
  {
   "cell_type": "code",
   "execution_count": 50,
   "metadata": {},
   "outputs": [
    {
     "data": {
      "image/png": "[encoded data removed]",
      "text/plain": [
       "<Figure size 576x576 with 1 Axes>"
      ]
     },
     "metadata": {},
     "output_type": "display_data"
    }
   ],
   "source": [
    "y.hist();"
   ]
  },
  {
   "cell_type": "code",
   "execution_count": null,
   "metadata": {},
   "outputs": [],
   "source": []
  }
 ],
 "metadata": {
  "kernelspec": {
   "display_name": "Python 3",
   "language": "python",
   "name": "python3"
  },
  "language_info": {
   "codemirror_mode": {
    "name": "ipython",
    "version": 3
   },
   "file_extension": ".py",
   "mimetype": "text/x-python",
   "name": "python",
   "nbconvert_exporter": "python",
   "pygments_lexer": "ipython3",
   "version": "3.7.3"
  }
 },
 "nbformat": 4,
 "nbformat_minor": 2
}
